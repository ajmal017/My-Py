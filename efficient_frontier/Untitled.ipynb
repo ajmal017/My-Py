{
 "cells": [
  {
   "cell_type": "code",
   "execution_count": 10,
   "metadata": {},
   "outputs": [],
   "source": [
    "# initialization cell\n",
    "from pandas_datareader import data, wb\n",
    "from nsepy import get_history as nse\n",
    "import pandas as pd\n",
    "import numpy as np\n",
    "import datetime\n",
    "\n",
    "%matplotlib inline\n",
    "\n",
    "start = datetime.datetime(2018, 1, 1)\n",
    "end = datetime.datetime(2019, 1, 1)\n",
    "\n",
    "#tickers to consider\n",
    "symbol=['SBIN','INFY','NIFTY']"
   ]
  },
  {
   "cell_type": "code",
   "execution_count": 61,
   "metadata": {},
   "outputs": [],
   "source": [
    "#create data\n",
    "\n",
    "#to select a single stock ticker -SBIN = nse('SBIN',start=start,end=end) [['Symbol','Close']]\n",
    "\n",
    "#for multiple:\n",
    "\n",
    "#creating an empty dataframe with the same no. of colums and then appending dataframes \n",
    "#of other tickers\n",
    "\n",
    "stock=pd.DataFrame(columns=['Symbol','Close'])\n",
    "for s in symbol:\n",
    "    stock=stock.append(nse(symbol=s,start=start,end=end) [['Symbol','Close']], ignore_index=True)\n"
   ]
  },
  {
   "cell_type": "code",
   "execution_count": null,
   "metadata": {},
   "outputs": [],
   "source": []
  }
 ],
 "metadata": {
  "kernelspec": {
   "display_name": "Python 3",
   "language": "python",
   "name": "python3"
  },
  "language_info": {
   "codemirror_mode": {
    "name": "ipython",
    "version": 3
   },
   "file_extension": ".py",
   "mimetype": "text/x-python",
   "name": "python",
   "nbconvert_exporter": "python",
   "pygments_lexer": "ipython3",
   "version": "3.7.4"
  }
 },
 "nbformat": 4,
 "nbformat_minor": 2
}

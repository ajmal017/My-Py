{
 "cells": [
  {
   "cell_type": "code",
   "execution_count": null,
   "metadata": {},
   "outputs": [],
   "source": [
    "import pandas as pd\n",
    "import numpy as np\n",
    "import datetime\n",
    "import matplotlib.pyplot as plt\n",
    "\n",
    "%matplotlib inline\n",
    "\n",
    "#assumed as sopt rates\n",
    "us_fed=pd.read_csv(\"rates1.csv\",index_col='years')\n",
    "\n",
    "#calculate forward rate\n",
    "def forward(a=1,b=1):\n",
    "    return (us_fed.loc[a+b]**(a+b)/us_fed.loc[a]**a)** (1/b)\n",
    "\n",
    "#forward curve\n",
    "def forward_curve(a=1):\n",
    "    b=1\n",
    "    f1=[]\n",
    "    while b<=len(us_fed)-a:\n",
    "        c=(us_fed.loc[a+b]**(a+b)/us_fed.loc[a]**a)** (1/b)\n",
    "        f1.append(c)\n",
    "        b+=1\n",
    "    return f1"
   ]
  }
 ],
 "metadata": {
  "kernelspec": {
   "display_name": "Python 3",
   "language": "python",
   "name": "python3"
  },
  "language_info": {
   "codemirror_mode": {
    "name": "ipython",
    "version": 3
   },
   "file_extension": ".py",
   "mimetype": "text/x-python",
   "name": "python",
   "nbconvert_exporter": "python",
   "pygments_lexer": "ipython3",
   "version": "3.7.4"
  }
 },
 "nbformat": 4,
 "nbformat_minor": 2
}

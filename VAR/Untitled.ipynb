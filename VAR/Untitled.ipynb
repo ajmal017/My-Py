{
 "cells": [
  {
   "cell_type": "code",
   "execution_count": 2,
   "metadata": {},
   "outputs": [],
   "source": [
    "from nsepy import get_history as nse\n",
    "import pandas as pd\n",
    "import numpy as np\n",
    "import datetime\n",
    "from scipy import stats\n",
    "import matplotlib.pyplot as plt\n",
    "\n",
    "%matplotlib inline\n",
    "\n",
    "#start and end of data period\n",
    "start = datetime.datetime(2010, 1, 1)\n",
    "end = datetime.datetime(2019, 11, 1)\n",
    "\n",
    "# get data\n",
    "stock1=nse(symbol='NIFTY 100',start=start,end=end,index='True') ['Close']\n",
    "stock=stock1.dropna()\n",
    "#log of data\n",
    "#stock=np.log(stock1)"
   ]
  },
  {
   "cell_type": "code",
   "execution_count": 3,
   "metadata": {},
   "outputs": [
    {
     "data": {
      "text/plain": [
       "Date\n",
       "2010-01-04     5153.55\n",
       "2010-01-05     5203.80\n",
       "2010-01-06     5214.00\n",
       "2010-01-07     5191.70\n",
       "2010-01-08     5175.75\n",
       "                ...   \n",
       "2019-10-27    11782.50\n",
       "2019-10-29    11942.05\n",
       "2019-10-30    12002.95\n",
       "2019-10-31    12037.25\n",
       "2019-11-01    12047.80\n",
       "Name: Close, Length: 2438, dtype: float64"
      ]
     },
     "execution_count": 3,
     "metadata": {},
     "output_type": "execute_result"
    }
   ],
   "source": [
    "stock"
   ]
  },
  {
   "cell_type": "code",
   "execution_count": 4,
   "metadata": {},
   "outputs": [
    {
     "data": {
      "image/png": "[encoded data removed]",
      "text/plain": [
       "<Figure size 432x288 with 1 Axes>"
      ]
     },
     "metadata": {
      "needs_background": "light"
     },
     "output_type": "display_data"
    }
   ],
   "source": [
    "# ret\n",
    "returns1 = stock.pct_change()\n",
    "returns=returns1.dropna()\n",
    "#returns.plot()\n",
    "#histogram\n",
    "#hist= returns.hist(bins=500)\n",
    "\n",
    "#OR\n",
    "plt.hist(returns,bins=200, histtype='step')\n",
    "plt.show()\n"
   ]
  },
  {
   "cell_type": "code",
   "execution_count": null,
   "metadata": {},
   "outputs": [],
   "source": []
  },
  {
   "cell_type": "code",
   "execution_count": 5,
   "metadata": {},
   "outputs": [
    {
     "name": "stdout",
     "output_type": "stream",
     "text": [
      "mean = 0.00039523061664386097\n",
      "std dev = 0.009662381619433775\n",
      "min = -0.06299040461334837\n",
      "max = 0.053752241020937674\n",
      "skewness = -0.12664081029035973\n",
      "excess kurtosis = 1.981909075750384\n"
     ]
    }
   ],
   "source": [
    "\n",
    "#stats\n",
    "print(\"mean = {}\".format(np.mean(returns)))\n",
    "print (\"std dev = {}\".format(np.std(returns)))\n",
    "print (\"min = {}\".format(np.min(returns)))\n",
    "print (\"max = {}\".format(np.max(returns)))\n",
    "print (\"skewness = {}\".format(returns.skew()))\n",
    "print (\"excess kurtosis = {}\".format(returns.kurtosis()))"
   ]
  },
  {
   "cell_type": "code",
   "execution_count": 6,
   "metadata": {},
   "outputs": [
    {
     "data": {
      "image/png": "[encoded data removed]",
      "text/plain": [
       "<Figure size 432x288 with 1 Axes>"
      ]
     },
     "metadata": {
      "needs_background": "light"
     },
     "output_type": "display_data"
    }
   ],
   "source": [
    "xs=np.linspace(np.min(returns),np.max(returns),200)\n",
    "#xs=np.linspace(-5,10,200)\n",
    "#y1=stats.norm.pdf(xs,np.mean(returns),np.std(returns))\n",
    "\n",
    "ps = stats.norm.fit(returns)\n",
    "y1= stats.norm.pdf(xs,*ps)\n",
    "ps = stats.skewnorm.fit(returns)\n",
    "y2= stats.skewnorm.pdf(xs,*ps)\n",
    "\n",
    "plt.plot(xs,y1,color='red',label=\"norm\")\n",
    "plt.plot(xs,y2,color='green',label=\"skew norm\")\n",
    "\n",
    "plt.hist(returns,bins=200,density='True', histtype='step')\n",
    "plt.legend()\n",
    "plt.show()\n",
    "\n"
   ]
  },
  {
   "cell_type": "code",
   "execution_count": 7,
   "metadata": {},
   "outputs": [
    {
     "name": "stdout",
     "output_type": "stream",
     "text": [
      "the VAR @ 10.0% = -0.011987609674630863\n",
      "the ES @ 10.0% = 3.9891361687268643\n",
      "the VAR @ 5.0% = -0.015497972835071028\n",
      "the ES @ 5.0% = 7.977887457422373\n",
      "the VAR @ 2.5% = -0.018542689362328144\n",
      "the ES @ 2.5% = 15.954948074770941\n",
      "the VAR @ 1.0% = -0.022082830321897198\n",
      "the ES @ 1.0% = 39.884501987943565\n"
     ]
    }
   ],
   "source": [
    "#Parametric var\n",
    "p=[.1,.05,.025,.01]\n",
    "#sigma = np.std(returns, ddof=1)\n",
    "ps = stats.norm.fit(returns)\n",
    "for n in p:\n",
    "    #print(-sigma * stats.norm.ppf(n,*ps) )\n",
    "    print(\"the VAR @ {}% = {}\".format(n*100, stats.norm.ppf(n,*ps)))\n",
    "    print(\"the ES @ {}% = {}\".format (n*100,stats.norm.pdf(stats.norm.ppf(n,*ps)) /n))\n",
    "    #print(\"ie. daily, there is {}% chance that losses might exceed {} (per 100 unit ccy)\".format(n*100, stats.norm.ppf(n,*ps)*(-100)))\n",
    "    "
   ]
  },
  {
   "cell_type": "code",
   "execution_count": 8,
   "metadata": {},
   "outputs": [
    {
     "name": "stdout",
     "output_type": "stream",
     "text": [
      "the hist VAR @ 10.0% = -0.011421137102934796\n",
      "the hist VAR @ 5.0% = -0.016114595714761905\n",
      "the hist VAR @ 2.5% = -0.019740801685146126\n",
      "the hist VAR @ 1.0% = -0.02406666260920135\n"
     ]
    }
   ],
   "source": [
    "#hist VAR\n",
    "p=[.1,.05,.025,.01]\n",
    "returns.sort_values(inplace=True,ascending=True)\n",
    "for n in p:\n",
    "     print(\"the hist VAR @ {}% = {}\".format(n*100, returns.quantile(n)))"
   ]
  },
  {
   "cell_type": "code",
   "execution_count": 9,
   "metadata": {},
   "outputs": [
    {
     "data": {
      "text/plain": [
       "<matplotlib.axes._subplots.AxesSubplot at 0x18adbdb7948>"
      ]
     },
     "execution_count": 9,
     "metadata": {},
     "output_type": "execute_result"
    },
    {
     "data": {
      "image/png": "[encoded data removed]",
      "text/plain": [
       "<Figure size 432x288 with 1 Axes>"
      ]
     },
     "metadata": {
      "needs_background": "light"
     },
     "output_type": "display_data"
    }
   ],
   "source": [
    "# visualising autocorrelation with lag 1\n",
    "pd.plotting.lag_plot (returns,lag=1)\n",
    "\n"
   ]
  },
  {
   "cell_type": "code",
   "execution_count": 10,
   "metadata": {},
   "outputs": [
    {
     "data": {
      "image/png": "[encoded data removed]",
      "text/plain": [
       "<Figure size 432x288 with 1 Axes>"
      ]
     },
     "execution_count": 10,
     "metadata": {},
     "output_type": "execute_result"
    },
    {
     "data": {
      "image/png": "[encoded data removed]",
      "text/plain": [
       "<Figure size 432x288 with 1 Axes>"
      ]
     },
     "metadata": {
      "needs_background": "light"
     },
     "output_type": "display_data"
    }
   ],
   "source": [
    "\n",
    "\n",
    "from statsmodels.graphics.tsaplots import plot_acf\n",
    "plot_acf(returns, lags=50)\n",
    "#pyplot.show()"
   ]
  },
  {
   "cell_type": "code",
   "execution_count": 11,
   "metadata": {},
   "outputs": [
    {
     "data": {
      "text/plain": [
       "<matplotlib.axes._subplots.AxesSubplot at 0x18ae01a9208>"
      ]
     },
     "execution_count": 11,
     "metadata": {},
     "output_type": "execute_result"
    },
    {
     "data": {
      "image/png": "[encoded data removed]",
      "text/plain": [
       "<Figure size 432x288 with 1 Axes>"
      ]
     },
     "metadata": {
      "needs_background": "light"
     },
     "output_type": "display_data"
    }
   ],
   "source": [
    "#autocorrelation \n",
    "pd.plotting.autocorrelation_plot(returns)"
   ]
  },
  {
   "cell_type": "code",
   "execution_count": 22,
   "metadata": {},
   "outputs": [
    {
     "name": "stdout",
     "output_type": "stream",
     "text": [
      "Iteration:      1,   Func. Count:      5,   Neg. LLF: 7655.427546186501\n",
      "Iteration:      2,   Func. Count:     11,   Neg. LLF: 7591.914432598246\n",
      "Iteration:      3,   Func. Count:     16,   Neg. LLF: 7147.177415598089\n",
      "Iteration:      4,   Func. Count:     27,   Neg. LLF: 7113.876783371731\n",
      "Iteration:      5,   Func. Count:     32,   Neg. LLF: 7112.079708658645\n",
      "Iteration:      6,   Func. Count:     38,   Neg. LLF: 7109.565293146354\n",
      "Iteration:      7,   Func. Count:     44,   Neg. LLF: 7107.548337061605\n",
      "Iteration:      8,   Func. Count:     50,   Neg. LLF: 7105.8778419826285\n",
      "Iteration:      9,   Func. Count:     56,   Neg. LLF: 7104.461811578515\n",
      "Iteration:     10,   Func. Count:     61,   Neg. LLF: 7093.36164719559\n",
      "Iteration:     11,   Func. Count:     68,   Neg. LLF: 7093.270702856533\n",
      "Iteration:     12,   Func. Count:     74,   Neg. LLF: 7092.721952886339\n",
      "Iteration:     13,   Func. Count:     79,   Neg. LLF: 7086.468092620316\n",
      "Iteration:     14,   Func. Count:     87,   Neg. LLF: 7086.454318803857\n",
      "Iteration:     15,   Func. Count:     92,   Neg. LLF: 7086.41580040995\n",
      "Iteration:     16,   Func. Count:     99,   Neg. LLF: 7086.415726370538\n",
      "Optimization terminated successfully.    (Exit mode 0)\n",
      "            Current function value: 7086.415726333333\n",
      "            Iterations: 17\n",
      "            Function evaluations: 99\n",
      "            Gradient evaluations: 16\n",
      "GARCH VAR @ 10.0% = -0.07022940176526796\n",
      "GARCH VAR @ 5.0% = -0.090138461313606\n",
      "GARCH VAR @ 2.5% = -0.10740660135452704\n",
      "GARCH VAR @ 1.0% = -0.12748454598653863\n"
     ]
    }
   ],
   "source": [
    "from arch import arch_model \n",
    "#scaled returns for the model to work correctly\n",
    "scaled_ret=returns*1000\n",
    "am = arch_model(scaled_ret, mean = 'zero', vol='Garch', p=1, o=0, q=1,dist='Normal')\n",
    "res = am.fit()\n",
    "omega = res.params[0]\n",
    "alpha = res.params[1]\n",
    "beta = res.params[2]\n",
    "## computing sigma2 for t+1\n",
    "sigma2 = omega + alpha*returns[-1]**2 + beta * res.conditional_volatility[-1]**2\n",
    "\n",
    "p=[.1,.05,.025,.01]\n",
    "for n in p:\n",
    "    var=np.sqrt(sigma2) * stats.norm.ppf(n)\n",
    "    print ('GARCH VAR @ {}% = {}'.format(n*100,var))"
   ]
  },
  {
   "cell_type": "code",
   "execution_count": 17,
   "metadata": {},
   "outputs": [
    {
     "data": {
      "text/plain": [
       "                       Zero Mean - GARCH Model Results                        \n",
       "==============================================================================\n",
       "Dep. Variable:                  Close   R-squared:                       0.000\n",
       "Mean Model:                 Zero Mean   Adj. R-squared:                  0.000\n",
       "Vol Model:                      GARCH   Log-Likelihood:               -7086.42\n",
       "Distribution:                  Normal   AIC:                           14178.8\n",
       "Method:            Maximum Likelihood   BIC:                           14196.2\n",
       "                                        No. Observations:                 2437\n",
       "Date:                Mon, Dec 09 2019   Df Residuals:                     2434\n",
       "Time:                        21:39:25   Df Model:                            3\n",
       "                              Volatility Model                              \n",
       "============================================================================\n",
       "                 coef    std err          t      P>|t|      95.0% Conf. Int.\n",
       "----------------------------------------------------------------------------\n",
       "omega      1.1377e-04  5.794e-05      1.963  4.959e-02 [2.024e-07,2.273e-04]\n",
       "alpha[1]       1.0000      0.191      5.237  1.632e-07     [  0.626,  1.374]\n",
       "beta[1]        0.0000      0.191      0.000      1.000     [ -0.374,  0.374]\n",
       "============================================================================\n",
       "\n",
       "Covariance estimator: robust\n",
       "ARCHModelResult, id: 0x18adf21e788"
      ]
     },
     "execution_count": 17,
     "metadata": {},
     "output_type": "execute_result"
    }
   ],
   "source": [
    "res\n",
    "#check the 95% CI, if it contains zero\n",
    "# then H0=> its not significantly diff to zero is true\n",
    "\n",
    " "
   ]
  },
  {
   "cell_type": "markdown",
   "metadata": {},
   "source": [
    "check the 95% CI, if it contains zero\n",
    "then H0=> its not significantly diff to zero is true\n",
    "\n",
    "in our case, omega and alpha are sig diff to zero, while beta isnt."
   ]
  },
  {
   "cell_type": "code",
   "execution_count": null,
   "metadata": {},
   "outputs": [],
   "source": []
  }
 ],
 "metadata": {
  "kernelspec": {
   "display_name": "Python 3",
   "language": "python",
   "name": "python3"
  },
  "language_info": {
   "codemirror_mode": {
    "name": "ipython",
    "version": 3
   },
   "file_extension": ".py",
   "mimetype": "text/x-python",
   "name": "python",
   "nbconvert_exporter": "python",
   "pygments_lexer": "ipython3",
   "version": "3.7.4"
  }
 },
 "nbformat": 4,
 "nbformat_minor": 2
}

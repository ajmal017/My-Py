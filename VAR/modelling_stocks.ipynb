{
 "cells": [
  {
   "cell_type": "code",
   "execution_count": 88,
   "metadata": {},
   "outputs": [],
   "source": [
    "import pandas as pd\n",
    "import numpy as np\n",
    "import datetime\n",
    "from scipy import stats\n",
    "import matplotlib.pyplot as plt\n",
    "\n",
    "%matplotlib inline\n",
    "\n",
    "#assumed as spot rates\n",
    "data1=pd.read_csv(\"^NSEI.csv\",index_col='Date')\n",
    "data=data1['Close']\n",
    "\n",
    "# ret\n",
    "returns = data.pct_change()\n",
    "returns=returns.dropna()"
   ]
  },
  {
   "cell_type": "code",
   "execution_count": 89,
   "metadata": {},
   "outputs": [
    {
     "data": {
      "text/plain": [
       "Date\n",
       "2007-10-01    0.175112\n",
       "2007-11-01   -0.023370\n",
       "2007-12-01    0.065221\n",
       "2008-01-01   -0.163091\n",
       "2008-02-01    0.016750\n",
       "                ...   \n",
       "2019-08-01   -0.008522\n",
       "2019-09-01    0.040932\n",
       "2019-10-01    0.035122\n",
       "2019-11-01    0.015037\n",
       "2019-12-01   -0.003123\n",
       "Name: Close, Length: 147, dtype: float64"
      ]
     },
     "execution_count": 89,
     "metadata": {},
     "output_type": "execute_result"
    }
   ],
   "source": [
    "returns"
   ]
  },
  {
   "cell_type": "code",
   "execution_count": 90,
   "metadata": {},
   "outputs": [
    {
     "name": "stdout",
     "output_type": "stream",
     "text": [
      "mean = 0.007942881489743916\n",
      "std dev = 0.06280927441559005\n",
      "min = -0.26410279147736315\n",
      "max = 0.28066041760887783\n",
      "skewness = -0.06730995609743282\n",
      "excess kurtosis = 4.179649601594983\n"
     ]
    }
   ],
   "source": [
    "\n",
    "#stats\n",
    "print(\"mean = {}\".format(np.mean(returns)))\n",
    "print (\"std dev = {}\".format(np.std(returns)))\n",
    "print (\"min = {}\".format(np.min(returns)))\n",
    "print (\"max = {}\".format(np.max(returns)))\n",
    "print (\"skewness = {}\".format(returns.skew()))\n",
    "print (\"excess kurtosis = {}\".format(returns.kurtosis()))"
   ]
  },
  {
   "cell_type": "code",
   "execution_count": 99,
   "metadata": {},
   "outputs": [
    {
     "data": {
      "image/png": "[encoded data removed]",
      "text/plain": [
       "<Figure size 432x288 with 1 Axes>"
      ]
     },
     "metadata": {
      "needs_background": "light"
     },
     "output_type": "display_data"
    }
   ],
   "source": [
    "#model using cont dist\n",
    "ps = stats.norm.fit(returns)\n",
    "y1= stats.norm.pdf(xs,*ps)\n",
    "ps = stats.skewnorm.fit(returns)\n",
    "y2= stats.skewnorm.pdf(xs,*ps)\n",
    "# just for experiment\n",
    "ps = stats.gamma.fit(returns)\n",
    "y3= stats.gamma.pdf(xs,*ps)\n",
    "\n",
    "plt.plot(xs,y1,color='red',label=\"norm\")\n",
    "plt.plot(xs,y2,color='green',label=\"skew norm\")\n",
    "plt.plot(xs,y3,color='yellow',label=\"experimental\")\n",
    "plt.hist(returns,bins=75,density='True', histtype='step')\n",
    "plt.legend()\n",
    "plt.show()"
   ]
  },
  {
   "cell_type": "code",
   "execution_count": 93,
   "metadata": {},
   "outputs": [],
   "source": []
  },
  {
   "cell_type": "code",
   "execution_count": null,
   "metadata": {},
   "outputs": [],
   "source": []
  },
  {
   "cell_type": "code",
   "execution_count": null,
   "metadata": {},
   "outputs": [],
   "source": []
  },
  {
   "cell_type": "code",
   "execution_count": null,
   "metadata": {},
   "outputs": [],
   "source": []
  }
 ],
 "metadata": {
  "kernelspec": {
   "display_name": "Python 3",
   "language": "python",
   "name": "python3"
  },
  "language_info": {
   "codemirror_mode": {
    "name": "ipython",
    "version": 3
   },
   "file_extension": ".py",
   "mimetype": "text/x-python",
   "name": "python",
   "nbconvert_exporter": "python",
   "pygments_lexer": "ipython3",
   "version": "3.7.4"
  }
 },
 "nbformat": 4,
 "nbformat_minor": 2
}
